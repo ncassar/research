{
 "cells": [
  {
   "cell_type": "code",
   "execution_count": 2,
   "metadata": {},
   "outputs": [],
   "source": [
    "import pandas as pd\n",
    "import numpy as np\n",
    "import matplotlib.pyplot as plt\n",
    "import astropy.units as u\n",
    "import astropy.coordinates as coord"
   ]
  },
  {
   "cell_type": "code",
   "execution_count": null,
   "metadata": {},
   "outputs": [],
   "source": [
    "###   using data frames to handle csv files   ###   using rows in data frame that have a parallax greater than 1 mas   ###\n",
    "df = pd.read_csv('GaiaSource_6714230465835878784_6917528443525529728.csv',nrows=30,usecols=['source_id','ra','dec','parallax','pmra',\n",
    "                                                                                           'pmdec','radial_velocity'])\n",
    "nearby = df[df['parallax'] >= 1]"
   ]
  },
  {
   "cell_type": "code",
   "execution_count": 4,
   "metadata": {},
   "outputs": [],
   "source": [
    "###   putting each data frame column into a list   ###\n",
    "ra = np.array(nearby['ra'])\n",
    "dec = np.array(nearby['dec'])\n",
    "parallax = np.array(nearby['parallax'])\n",
    "pmra = np.array(nearby['pmra'])\n",
    "pmdec = np.array(nearby['pmdec'])\n",
    "d = 1/parallax\n",
    "rad_vel = np.array(nearby['radial_velocity'])"
   ]
  },
  {
   "cell_type": "code",
   "execution_count": 5,
   "metadata": {},
   "outputs": [],
   "source": [
    "###   coordinate system relative to sun   ###\n",
    "c1 = coord.ICRS(ra = ra*u.mas, \n",
    "                dec = dec*u.mas, \n",
    "                distance = d*u.kpc,\n",
    "                pm_ra_cosdec = pmra*u.mas/u.yr,\n",
    "                pm_dec = pmdec*u.mas/u.yr,\n",
    "                radial_velocity = rad_vel*u.km/u.s)"
   ]
  },
  {
   "cell_type": "code",
   "execution_count": 6,
   "metadata": {},
   "outputs": [],
   "source": [
    "###   transforming to galactocentric coordinates   ###\n",
    "gc_frame = coord.Galactocentric(galcen_distance = 8.122*u.kpc)\n",
    "gc1 = c1.transform_to(gc_frame)"
   ]
  },
  {
   "cell_type": "code",
   "execution_count": 7,
   "metadata": {},
   "outputs": [],
   "source": [
    "###   putting data into a data frame for visual analysis. uncomment last line to view   ###\n",
    "gc1_data = {'x':gc1.x,'y':gc1.y,'z':gc1.z,'v_x':gc1.v_x,'v_y':gc1.v_y,'v_z':gc1.v_z,\n",
    "           'r':np.sqrt(gc1.x**2+gc1.y**2), 'v_xy':np.sqrt(gc1.v_x**2+gc1.v_y**2), 'v_tot': np.sqrt(gc1.v_x**2+gc1.v_y**2+gc1.v_z**2)}\n",
    "gcdf = pd.DataFrame(gc1_data)\n",
    "#gcdf"
   ]
  },
  {
   "cell_type": "code",
   "execution_count": 20,
   "metadata": {},
   "outputs": [],
   "source": [
    "###   positions in 2D plane (polar)   ###\n",
    "x = np.array(gcdf['x'])\n",
    "y = np.array(gcdf['y'])\n",
    "r = np.array(gcdf['r'])\n",
    "###   velocity in 2D plane   ###\n",
    "v_x = np.array(gcdf['v_x'])\n",
    "v_y = np.array(gcdf['v_y'])\n",
    "vxy = np.array(gcdf['v_xy'])\n",
    "###   Finding the rotational velocity component (v component perpendicular to radius) from 2D velocity   ###\n",
    "theta = np.arctan(v_y/v_x)\n",
    "phi = np.arctan(y/x)\n",
    "beta = theta - phi\n",
    "v_az = vxy*np.sin(beta)"
   ]
  },
  {
   "cell_type": "code",
   "execution_count": 21,
   "metadata": {},
   "outputs": [],
   "source": [
    "###   finding projection of sun velocity on tangential velocity   ###\n"
   ]
  },
  {
   "cell_type": "code",
   "execution_count": 22,
   "metadata": {},
   "outputs": [],
   "source": [
    "###   using data frame to sort rows by value of radius from low to high   ###\n",
    "vr = {'r':r,'v':v_az}\n",
    "vrdf = pd.DataFrame(vr).sort_values('r')"
   ]
  },
  {
   "cell_type": "code",
   "execution_count": 23,
   "metadata": {},
   "outputs": [],
   "source": [
    "###   group determines the number of stars that get averaged together.  stars are ordered by distance and grouped   ###\n",
    "###   averages groups in the array and adds each averaged value to a list   ###\n",
    "group = 5000\n",
    "avg_r = [x.mean() for x in np.array_split(np.array(vrdf['r']),len(r)/group)]\n",
    "avg_v = [x.mean() for x in np.array_split(np.array(abs(vrdf['v'])),len(r)/group)]"
   ]
  },
  {
   "cell_type": "code",
   "execution_count": 24,
   "metadata": {},
   "outputs": [
    {
     "data": {
      "text/plain": [
       "Text(0.5,0,'Radius from Galactic Center (kpc)')"
      ]
     },
     "execution_count": 24,
     "metadata": {},
     "output_type": "execute_result"
    },
    {
     "data": {
      "image/png": "[encoded data removed]",
      "text/plain": [
       "<Figure size 432x288 with 1 Axes>"
      ]
     },
     "metadata": {},
     "output_type": "display_data"
    }
   ],
   "source": [
    "###   Plotting average azimuthal velocity per average radius   ###\n",
    "plt.plot(avg_r,avg_v,'bo')\n",
    "plt.ylim(0,250)\n",
    "plt.ylabel('Velocity (km/s)')\n",
    "plt.xlabel('Radius from Galactic Center (kpc)')"
   ]
  },
  {
   "cell_type": "code",
   "execution_count": 25,
   "metadata": {},
   "outputs": [],
   "source": [
    "####   mu is proper motion of star --> converted to transverse velocity, v_abs is absolute velocity   ###\n",
    "mu = np.sqrt(pmra**2 + pmdec**2)\n",
    "vt = 4.74*mu*d\n",
    "v_abs = np.sqrt(vt**2 + rad_vel**2)"
   ]
  },
  {
   "cell_type": "code",
   "execution_count": 26,
   "metadata": {},
   "outputs": [
    {
     "data": {
      "text/plain": [
       "<matplotlib.legend.Legend at 0x1a9b7f3da90>"
      ]
     },
     "execution_count": 26,
     "metadata": {},
     "output_type": "execute_result"
    },
    {
     "data": {
      "image/png": "[encoded data removed]",
      "text/plain": [
       "<Figure size 432x288 with 1 Axes>"
      ]
     },
     "metadata": {},
     "output_type": "display_data"
    }
   ],
   "source": [
    "###  proper motion (transverse)   -------   absolute velocity  ###\n",
    "xdom = range(0,251,25)\n",
    "plt.hist([vt,v_abs], bins = xdom, rwidth = .95, color = ['green','blue'], label = ['v_trans','v_abs'])\n",
    "plt.xticks(xdom)\n",
    "plt.ylabel('Number of Stars')\n",
    "plt.xlabel('Velocity (km/s)')\n",
    "plt.title('Relative to Sun')\n",
    "plt.legend()"
   ]
  },
  {
   "cell_type": "code",
   "execution_count": 27,
   "metadata": {},
   "outputs": [
    {
     "data": {
      "text/plain": [
       "<matplotlib.legend.Legend at 0x1a9b994f240>"
      ]
     },
     "execution_count": 27,
     "metadata": {},
     "output_type": "execute_result"
    },
    {
     "data": {
      "image/png": "[encoded data removed]",
      "text/plain": [
       "<Figure size 432x288 with 1 Axes>"
      ]
     },
     "metadata": {},
     "output_type": "display_data"
    }
   ],
   "source": [
    "###   Plotting azimuthal velocity of stars   ###\n",
    "xdom = range(0,351,25)\n",
    "plt.hist(v_az, bins = xdom, rwidth = .95, label = ['azimuthal velocity'])\n",
    "plt.xticks(xdom)\n",
    "plt.ylabel('Number of Stars')\n",
    "plt.xlabel('Rotational Velocity (km/s)')\n",
    "plt.title('Relative to Galactic Center')\n",
    "plt.legend()"
   ]
  },
  {
   "cell_type": "code",
   "execution_count": 28,
   "metadata": {},
   "outputs": [
    {
     "data": {
      "text/plain": [
       "<matplotlib.legend.Legend at 0x1a9b99d6ef0>"
      ]
     },
     "execution_count": 28,
     "metadata": {},
     "output_type": "execute_result"
    },
    {
     "data": {
      "image/png": "[encoded data removed]",
      "text/plain": [
       "<Figure size 432x288 with 1 Axes>"
      ]
     },
     "metadata": {},
     "output_type": "display_data"
    }
   ],
   "source": [
    "xdom = range(0,351,25)\n",
    "plt.hist([v_az,np.array(gcdf['v_tot'])], bins = xdom, rwidth = .95, color = ['green','blue'], label = ['v_az','v_tot'])\n",
    "plt.xticks(xdom)\n",
    "plt.ylabel('Number of Stars')\n",
    "plt.xlabel('Velocity (km/s)')\n",
    "plt.title('Relative to G Center')\n",
    "plt.legend()"
   ]
  },
  {
   "cell_type": "code",
   "execution_count": 19,
   "metadata": {},
   "outputs": [],
   "source": [
    "\n",
    "### contour plot of star location (density of stars)\n",
    "### transformation to find u,v,w vector to perform projection\n",
    "### thinking about errorbars and standard deviation"
   ]
  },
  {
   "cell_type": "code",
   "execution_count": 31,
   "metadata": {},
   "outputs": [],
   "source": [
    "A = np.array([[2,3],[1,1]])\n",
    "B = np.array([[3,1],[1,2]])\n",
    "C = [[1,5,3],[4,2,2]]"
   ]
  },
  {
   "cell_type": "code",
   "execution_count": 32,
   "metadata": {},
   "outputs": [
    {
     "data": {
      "text/plain": [
       "array([[9, 8],\n",
       "       [4, 3]])"
      ]
     },
     "execution_count": 32,
     "metadata": {},
     "output_type": "execute_result"
    }
   ],
   "source": [
    "np.matmul(A,B)"
   ]
  },
  {
   "cell_type": "code",
   "execution_count": 41,
   "metadata": {},
   "outputs": [],
   "source": [
    "gctheta = 122.932\n",
    "decn = 27.1283\n",
    "alphan = 192.8595\n",
    "t_1 = np.array(   [[np.cos(gctheta), np.sin(gctheta), 0] , [np.sin(gctheta),-np.cos(gctheta),0] , [0,0,1]]   )\n",
    "t_2 = np.array(   [[-np.sin(decn), 0, np.cos(decn)], [0,1,0] , [np.cos(decn),0,np.sin(decn)]]   )\n",
    "t_3 = np.array(   [[np.cos(alphan), np.sin(alphan), 0], [-np.sin(alphan),np.cos(alphan),0],[0,0,1]]   )\n",
    "t_12 = np.matmul(t_1,t_2)\n",
    "TT = np.matmul(t_12,t_3)"
   ]
  },
  {
   "cell_type": "code",
   "execution_count": null,
   "metadata": {},
   "outputs": [],
   "source": [
    "c = 4.74047\n",
    "vg_list = []\n",
    "for i in ra:\n",
    "    for j in dec:\n",
    "        for k in d:\n",
    "            for l in pmra:\n",
    "                for m in pmdec:\n",
    "                    a_1 = np.array(   [[np.cos(i), -np.sin(i), 0], [np.sin(i), np.cos(i), 0] , [0,0,1]]   )\n",
    "                    a_2 = np.array(   [[np.cos(j), 0, -np.sin(j)], [0,1,0], [np.sin(j),0,np.cos(j)]]   )\n",
    "                    AA = np.matmul(a_1,a_2)\n",
    "                    KK = np.matmul(TT,AA)\n",
    "                    V_E = np.array(   [[0],[c*k*l],[c*k*m]]   )\n",
    "                    V_G = np.matmul(KK,V_E)\n",
    "                    vg_list.append(V_G)"
   ]
  },
  {
   "cell_type": "code",
   "execution_count": null,
   "metadata": {},
   "outputs": [],
   "source": [
    "vg_list"
   ]
  },
  {
   "cell_type": "code",
   "execution_count": null,
   "metadata": {},
   "outputs": [],
   "source": []
  }
 ],
 "metadata": {
  "kernelspec": {
   "display_name": "Python 3",
   "language": "python",
   "name": "python3"
  },
  "language_info": {
   "codemirror_mode": {
    "name": "ipython",
    "version": 3
   },
   "file_extension": ".py",
   "mimetype": "text/x-python",
   "name": "python",
   "nbconvert_exporter": "python",
   "pygments_lexer": "ipython3",
   "version": "3.6.5"
  }
 },
 "nbformat": 4,
 "nbformat_minor": 2
}
